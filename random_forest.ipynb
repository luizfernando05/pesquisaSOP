{
 "cells": [
  {
   "cell_type": "code",
   "execution_count": 69,
   "metadata": {},
   "outputs": [],
   "source": [
    "from sklearn.ensemble import RandomForestClassifier\n",
    "from imblearn.over_sampling import SMOTE\n",
    "from sklearn.model_selection import train_test_split, cross_val_score\n",
    "from sklearn.preprocessing import StandardScaler\n",
    "from sklearn.metrics import classification_report, confusion_matrix\n",
    "from sklearn.feature_selection import SelectKBest, f_classif\n",
    "from typing import Counter\n",
    "import pandas as pd\n",
    "import numpy as np"
   ]
  },
  {
   "cell_type": "code",
   "execution_count": 70,
   "metadata": {},
   "outputs": [
    {
     "data": {
      "text/plain": [
       "PCOS (Y/N)\n",
       "0    364\n",
       "1    177\n",
       "Name: count, dtype: int64"
      ]
     },
     "execution_count": 70,
     "metadata": {},
     "output_type": "execute_result"
    }
   ],
   "source": [
    "# Carregar e limpar os dados\n",
    "file_path = './dataset/PCOS_data.csv'\n",
    "data = pd.read_csv(file_path)\n",
    "\n",
    "data_cleaned = data.replace(',', '.', regex=True)\n",
    "\n",
    "# Convertendo colunas para os tipos numéricos apropriados\n",
    "for col in data_cleaned.columns:\n",
    "    try:\n",
    "        data_cleaned[col] = pd.to_numeric(data_cleaned[col])\n",
    "    except ValueError:\n",
    "        pass\n",
    "\n",
    "# Remover duplicatas\n",
    "duplicates = data_cleaned.duplicated().sum()\n",
    "data_cleaned = data_cleaned.drop_duplicates()\n",
    "\n",
    "# Verificar valores de cada classe para balanceamento\n",
    "class_distribution = data_cleaned['PCOS (Y/N)'].value_counts()\n",
    "\n",
    "class_distribution"
   ]
  },
  {
   "cell_type": "code",
   "execution_count": 71,
   "metadata": {},
   "outputs": [
    {
     "name": "stdout",
     "output_type": "stream",
     "text": [
      "Distribuição das classes após SMOTE: Counter({0: 364, 1: 364})\n"
     ]
    }
   ],
   "source": [
    "# Separar características (X) e rótulos (y)\n",
    "X = data_cleaned.drop(columns=['PCOS (Y/N)'])\n",
    "y = data_cleaned['PCOS (Y/N)']\n",
    "\n",
    "# Balanceamento dos dados com SMOTE\n",
    "smote = SMOTE(random_state=42)\n",
    "X_balanced, y_balanced = smote.fit_resample(X, y)\n",
    "\n",
    "print(f\"Distribuição das classes após SMOTE: {Counter(y_balanced)}\")"
   ]
  },
  {
   "cell_type": "code",
   "execution_count": 72,
   "metadata": {},
   "outputs": [
    {
     "name": "stdout",
     "output_type": "stream",
     "text": [
      "Relatório de Classificação com todas as características (Random Forest):\n",
      "               precision    recall  f1-score   support\n",
      "\n",
      "           0       0.91      0.87      0.89       110\n",
      "           1       0.88      0.92      0.90       109\n",
      "\n",
      "    accuracy                           0.89       219\n",
      "   macro avg       0.90      0.90      0.89       219\n",
      "weighted avg       0.90      0.89      0.89       219\n",
      "\n",
      "Matriz de Confusão com todas as características (Random Forest):\n",
      " [[ 96  14]\n",
      " [  9 100]]\n",
      "Validação cruzada com todas as características (Random Forest):\n",
      "Acurácia média: 0.9036, Desvio padrão: 0.0453\n"
     ]
    }
   ],
   "source": [
    "# Dividir os dados em treino e teste\n",
    "X_train, X_test, y_train, y_test = train_test_split(X_balanced, y_balanced, test_size=0.3, random_state=42)\n",
    "\n",
    "# Normalizar os dados\n",
    "scaler = StandardScaler()\n",
    "X_train_scaled = scaler.fit_transform(X_train)\n",
    "X_test_scaled = scaler.transform(X_test)\n",
    "\n",
    "# Treinando o modelo Random Forest com todas as características\n",
    "random_forest = RandomForestClassifier(random_state=42)\n",
    "random_forest.fit(X_train_scaled, y_train)\n",
    "\n",
    "# Predição com todas as características\n",
    "y_pred_all_features_rf = random_forest.predict(X_test_scaled)\n",
    "\n",
    "# Validação cruzada com todas as características\n",
    "cv_scores_all_features_rf = cross_val_score(random_forest, X_train_scaled, y_train, cv=5, scoring='accuracy')\n",
    "mean_accuracy_all_rf = np.mean(cv_scores_all_features_rf)\n",
    "std_accuracy_all_rf = np.std(cv_scores_all_features_rf)\n",
    "\n",
    "print(\"Relatório de Classificação com todas as características (Random Forest):\\n\", classification_report(y_test, y_pred_all_features_rf))\n",
    "print(\"Matriz de Confusão com todas as características (Random Forest):\\n\", confusion_matrix(y_test, y_pred_all_features_rf))\n",
    "print(f\"Validação cruzada com todas as características (Random Forest):\\nAcurácia média: {mean_accuracy_all_rf:.4f}, Desvio padrão: {std_accuracy_all_rf:.4f}\")"
   ]
  },
  {
   "cell_type": "code",
   "execution_count": 73,
   "metadata": {},
   "outputs": [
    {
     "data": {
      "text/plain": [
       "['randomForest_allFeatures.joblib']"
      ]
     },
     "execution_count": 73,
     "metadata": {},
     "output_type": "execute_result"
    }
   ],
   "source": [
    "from joblib import dump\n",
    "dump(random_forest, 'randomForest_allFeatures.joblib')"
   ]
  },
  {
   "cell_type": "markdown",
   "metadata": {},
   "source": [
    "### Treinando com as K Melhores"
   ]
  },
  {
   "cell_type": "code",
   "execution_count": 74,
   "metadata": {},
   "outputs": [
    {
     "name": "stdout",
     "output_type": "stream",
     "text": [
      "Características selecionadas: Index(['Weight (Kg)', 'Cycle(R/I)', 'AMH(ng/mL)', 'Weight gain(Y/N)',\n",
      "       'hair growth(Y/N)', 'Skin darkening (Y/N)', 'Pimples(Y/N)',\n",
      "       'Fast food (Y/N)', 'Follicle No. (L)', 'Follicle No. (R)'],\n",
      "      dtype='object')\n"
     ]
    }
   ],
   "source": [
    "# Seleção de características com SelectKBest\n",
    "selector = SelectKBest(score_func=f_classif, k=10)\n",
    "X_new = selector.fit_transform(X, y)\n",
    "selected_features = X.columns[selector.get_support()]\n",
    "\n",
    "print(\"Características selecionadas:\", selected_features)"
   ]
  },
  {
   "cell_type": "code",
   "execution_count": 75,
   "metadata": {},
   "outputs": [],
   "source": [
    "# Balanceamento dos dados com SMOTE para as características selecionadas\n",
    "X_balanced_selected, y_balanced_selected = smote.fit_resample(X_new, y)\n",
    "\n",
    "# Divisão em treino e teste para as características selecionadas\n",
    "X_train_selected, X_test_selected, y_train_selected, y_test_selected = train_test_split(X_balanced_selected, y_balanced_selected, test_size=0.3, random_state=42)\n",
    "\n",
    "# Normalizando os dados\n",
    "X_train_scaled_selected = scaler.fit_transform(X_train_selected)\n",
    "X_test_scaled_selected = scaler.transform(X_test_selected)"
   ]
  },
  {
   "cell_type": "code",
   "execution_count": 76,
   "metadata": {},
   "outputs": [
    {
     "name": "stdout",
     "output_type": "stream",
     "text": [
      "Relatório de Classificação com as melhores características (Random Forest):\n",
      "               precision    recall  f1-score   support\n",
      "\n",
      "           0       0.93      0.93      0.93       110\n",
      "           1       0.93      0.93      0.93       109\n",
      "\n",
      "    accuracy                           0.93       219\n",
      "   macro avg       0.93      0.93      0.93       219\n",
      "weighted avg       0.93      0.93      0.93       219\n",
      "\n",
      "Matriz de Confusão com as melhores características (Random Forest):\n",
      " [[102   8]\n",
      " [  8 101]]\n",
      "Validação cruzada com as melhores características (Random Forest):\n",
      "Acurácia média: 0.9135, Desvio padrão: 0.0202\n"
     ]
    }
   ],
   "source": [
    "# Treinando o modelo Random Forest com as melhores características\n",
    "random_forest.fit(X_train_scaled_selected, y_train_selected)\n",
    "\n",
    "# Predição com as melhores características\n",
    "y_pred_selected_rf = random_forest.predict(X_test_scaled_selected)\n",
    "\n",
    "# Validação cruzada com as melhores características\n",
    "cv_scores_selected_features_rf = cross_val_score(random_forest, X_train_scaled_selected, y_train_selected, cv=5, scoring='accuracy')\n",
    "mean_accuracy_selected_rf = np.mean(cv_scores_selected_features_rf)\n",
    "std_accuracy_selected_rf = np.std(cv_scores_selected_features_rf)\n",
    "\n",
    "print(\"Relatório de Classificação com as melhores características (Random Forest):\\n\", classification_report(y_test_selected, y_pred_selected_rf))\n",
    "print(\"Matriz de Confusão com as melhores características (Random Forest):\\n\", confusion_matrix(y_test_selected, y_pred_selected_rf))\n",
    "print(f\"Validação cruzada com as melhores características (Random Forest):\\nAcurácia média: {mean_accuracy_selected_rf:.4f}, Desvio padrão: {std_accuracy_selected_rf:.4f}\")"
   ]
  },
  {
   "cell_type": "code",
   "execution_count": 77,
   "metadata": {},
   "outputs": [
    {
     "data": {
      "text/plain": [
       "['randomForest_bestFeatures.joblib']"
      ]
     },
     "execution_count": 77,
     "metadata": {},
     "output_type": "execute_result"
    }
   ],
   "source": [
    "from joblib import dump\n",
    "dump(random_forest, 'randomForest_bestFeatures.joblib')"
   ]
  }
 ],
 "metadata": {
  "kernelspec": {
   "display_name": "Python 3",
   "language": "python",
   "name": "python3"
  },
  "language_info": {
   "codemirror_mode": {
    "name": "ipython",
    "version": 3
   },
   "file_extension": ".py",
   "mimetype": "text/x-python",
   "name": "python",
   "nbconvert_exporter": "python",
   "pygments_lexer": "ipython3",
   "version": "3.10.7"
  }
 },
 "nbformat": 4,
 "nbformat_minor": 2
}
