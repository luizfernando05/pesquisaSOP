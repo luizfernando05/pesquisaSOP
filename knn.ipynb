{
 "cells": [
  {
   "cell_type": "code",
   "execution_count": 168,
   "metadata": {},
   "outputs": [],
   "source": [
    "from imblearn.over_sampling import SMOTE\n",
    "from sklearn.model_selection import train_test_split, cross_val_score\n",
    "from sklearn.preprocessing import StandardScaler\n",
    "from sklearn.neighbors import KNeighborsClassifier\n",
    "from sklearn.metrics import accuracy_score\n",
    "from sklearn.metrics import classification_report, confusion_matrix\n",
    "from sklearn.feature_selection import SelectKBest, f_classif\n",
    "from typing import Counter\n",
    "import pandas as pd\n",
    "import numpy as np"
   ]
  },
  {
   "cell_type": "code",
   "execution_count": 169,
   "metadata": {},
   "outputs": [],
   "source": [
    "file_path = './dataset/PCOS_data.csv'\n",
    "data = pd.read_csv(file_path)\n",
    "\n",
    "# data.info(), data.head(), data.describe()"
   ]
  },
  {
   "cell_type": "code",
   "execution_count": 170,
   "metadata": {},
   "outputs": [
    {
     "data": {
      "text/plain": [
       "(0,\n",
       " PCOS (Y/N)\n",
       " 0    364\n",
       " 1    177\n",
       " Name: count, dtype: int64)"
      ]
     },
     "execution_count": 170,
     "metadata": {},
     "output_type": "execute_result"
    }
   ],
   "source": [
    "data_cleaned = data.replace(',', '.', regex=True)\n",
    "\n",
    "# convertendo colunas para os tipos numéricos apropriados\n",
    "for col in data_cleaned.columns:\n",
    "  try:\n",
    "    data_cleaned[col] = pd.to_numeric(data_cleaned[col])\n",
    "  except ValueError:\n",
    "    pass\n",
    "\n",
    "# verificando e remover duplicatas\n",
    "duplicates = data_cleaned.duplicated().sum()\n",
    "data_cleaned = data_cleaned.drop_duplicates()\n",
    "\n",
    "# verificando valores de cada classe para balanceamento\n",
    "class_distribution = data_cleaned['PCOS (Y/N)'].value_counts()\n",
    "\n",
    "duplicates, class_distribution"
   ]
  },
  {
   "cell_type": "code",
   "execution_count": 171,
   "metadata": {},
   "outputs": [
    {
     "name": "stdout",
     "output_type": "stream",
     "text": [
      "Distribuição das classes após SMOTE: Counter({0: 364, 1: 364})\n",
      "Melhor valor de k: 1\n"
     ]
    }
   ],
   "source": [
    "# separando características (X) e rótulos (y)\n",
    "X = data_cleaned.drop(columns=['PCOS (Y/N)'])\n",
    "y = data_cleaned['PCOS (Y/N)']\n",
    "\n",
    "# balanceamento dos dados com SMOTE\n",
    "smote = SMOTE(random_state=42)\n",
    "X_balanced, y_balanced = smote.fit_resample(X, y)\n",
    "\n",
    "print(f\"Distribuição das classes após SMOTE: {Counter(y_balanced)}\")\n",
    "\n",
    "# dividindo os dados em treino e teste\n",
    "X_train, X_test, y_train, y_test = train_test_split(X_balanced, y_balanced, test_size=0.3, random_state=42)\n",
    "\n",
    "# normalizando os dados\n",
    "scaler = StandardScaler()\n",
    "X_train_scaled = scaler.fit_transform(X_train)\n",
    "X_test_scaled = scaler.transform(X_test)\n",
    "\n",
    "# testando diferentes valores de k para o KNN\n",
    "k_values = range(1, 21)\n",
    "accuracies = []\n",
    "\n",
    "for k in k_values:\n",
    "    knn = KNeighborsClassifier(n_neighbors=k)\n",
    "    knn.fit(X_train_scaled, y_train)\n",
    "    y_pred = knn.predict(X_test_scaled)\n",
    "    accuracies.append(accuracy_score(y_test, y_pred))\n",
    "\n",
    "best_k = k_values[accuracies.index(max(accuracies))]\n",
    "print(f\"Melhor valor de k: {best_k}\")"
   ]
  },
  {
   "cell_type": "code",
   "execution_count": 172,
   "metadata": {},
   "outputs": [
    {
     "name": "stdout",
     "output_type": "stream",
     "text": [
      "Relatório de Classificação:\n",
      "               precision    recall  f1-score   support\n",
      "\n",
      "           0       0.96      0.83      0.89       110\n",
      "           1       0.85      0.96      0.90       109\n",
      "\n",
      "    accuracy                           0.89       219\n",
      "   macro avg       0.90      0.90      0.89       219\n",
      "weighted avg       0.90      0.89      0.89       219\n",
      "\n",
      "Matriz de Confusão:\n",
      " [[ 91  19]\n",
      " [  4 105]]\n",
      "\n",
      "Validação cruzada com todas as características:\n",
      "Acurácia média: 0.8408, Desvio padrão: 0.0412\n"
     ]
    }
   ],
   "source": [
    "# treinando o modelo com o melhor valor de k\n",
    "knn_best = KNeighborsClassifier(n_neighbors=best_k)\n",
    "knn_best.fit(X_train_scaled, y_train)\n",
    "\n",
    "# avaliação do modelo\n",
    "y_pred_best = knn_best.predict(X_test_scaled)\n",
    "conf_matrix = confusion_matrix(y_test, y_pred_best)\n",
    "class_report = classification_report(y_test, y_pred_best)\n",
    "\n",
    "cv_scores_all_features = cross_val_score(knn_best, X_train_scaled, y_train, cv=5, scoring='accuracy')\n",
    "mean_accuracy_all = np.mean(cv_scores_all_features)\n",
    "std_accuracy_all = np.std(cv_scores_all_features)\n",
    "\n",
    "print(\"Relatório de Classificação:\\n\", class_report)\n",
    "print(\"Matriz de Confusão:\\n\", conf_matrix)\n",
    "print(f\"\\nValidação cruzada com todas as características:\\nAcurácia média: {mean_accuracy_all:.4f}, Desvio padrão: {std_accuracy_all:.4f}\")"
   ]
  },
  {
   "cell_type": "markdown",
   "metadata": {},
   "source": [
    "### Treinando com as K Melhores"
   ]
  },
  {
   "cell_type": "code",
   "execution_count": 173,
   "metadata": {},
   "outputs": [
    {
     "name": "stdout",
     "output_type": "stream",
     "text": [
      "Características selecionadas: Index(['Weight (Kg)', 'Cycle(R/I)', 'AMH(ng/mL)', 'Weight gain(Y/N)',\n",
      "       'hair growth(Y/N)', 'Skin darkening (Y/N)', 'Pimples(Y/N)',\n",
      "       'Fast food (Y/N)', 'Follicle No. (L)', 'Follicle No. (R)'],\n",
      "      dtype='object')\n"
     ]
    }
   ],
   "source": [
    "# seleção de características com SelectKBest\n",
    "selector = SelectKBest(score_func=f_classif, k=10)\n",
    "X_new = selector.fit_transform(X, y)\n",
    "selected_features = X.columns[selector.get_support()]\n",
    "\n",
    "print(\"Características selecionadas:\", selected_features)"
   ]
  },
  {
   "cell_type": "code",
   "execution_count": 174,
   "metadata": {},
   "outputs": [
    {
     "name": "stdout",
     "output_type": "stream",
     "text": [
      "Distribuição das classes após SMOTE: Counter({0: 364, 1: 364})\n"
     ]
    }
   ],
   "source": [
    "# balanceamento dos dados com SMOTE\n",
    "smote = SMOTE(random_state=42)\n",
    "X_balanced, y_balanced = smote.fit_resample(X_new, y)\n",
    "\n",
    "print(f\"Distribuição das classes após SMOTE: {Counter(y_balanced)}\")\n",
    "\n",
    "# divisão em treino e teste\n",
    "X_train, X_test, y_train, y_test = train_test_split(X_balanced, y_balanced, test_size=0.3, random_state=42)\n",
    "\n",
    "# normalização dos dados\n",
    "scaler = StandardScaler()\n",
    "X_train_scaled = scaler.fit_transform(X_train)\n",
    "X_test_scaled = scaler.transform(X_test)"
   ]
  },
  {
   "cell_type": "code",
   "execution_count": 175,
   "metadata": {},
   "outputs": [
    {
     "name": "stdout",
     "output_type": "stream",
     "text": [
      "Relatório de Classificação:\n",
      "               precision    recall  f1-score   support\n",
      "\n",
      "           0       0.92      0.93      0.92       110\n",
      "           1       0.93      0.92      0.92       109\n",
      "\n",
      "    accuracy                           0.92       219\n",
      "   macro avg       0.92      0.92      0.92       219\n",
      "weighted avg       0.92      0.92      0.92       219\n",
      "\n",
      "Matriz de Confusão:\n",
      " [[102   8]\n",
      " [  9 100]]\n",
      "\n",
      "Validação cruzada com as melhores características (SelectKBest):\n",
      "Acurácia média: 0.8978, Desvio padrão: 0.0193\n"
     ]
    }
   ],
   "source": [
    "# treinamento e avaliação do modelo com o melhor k\n",
    "knn_best = KNeighborsClassifier(n_neighbors=best_k)\n",
    "knn_best.fit(X_train_scaled, y_train)\n",
    "\n",
    "cv_scores_selected_features = cross_val_score(knn_best, X_train_scaled, y_train, cv=5, scoring='accuracy')\n",
    "mean_accuracy_selected = np.mean(cv_scores_selected_features)\n",
    "std_accuracy_selected = np.std(cv_scores_selected_features)\n",
    "\n",
    "y_pred = knn_best.predict(X_test_scaled)\n",
    "print(\"Relatório de Classificação:\\n\", classification_report(y_test, y_pred))\n",
    "print(\"Matriz de Confusão:\\n\", confusion_matrix(y_test, y_pred))\n",
    "print(f\"\\nValidação cruzada com as melhores características (SelectKBest):\\nAcurácia média: {mean_accuracy_selected:.4f}, Desvio padrão: {std_accuracy_selected:.4f}\")"
   ]
  }
 ],
 "metadata": {
  "kernelspec": {
   "display_name": "Python 3",
   "language": "python",
   "name": "python3"
  },
  "language_info": {
   "codemirror_mode": {
    "name": "ipython",
    "version": 3
   },
   "file_extension": ".py",
   "mimetype": "text/x-python",
   "name": "python",
   "nbconvert_exporter": "python",
   "pygments_lexer": "ipython3",
   "version": "3.10.7"
  }
 },
 "nbformat": 4,
 "nbformat_minor": 2
}
