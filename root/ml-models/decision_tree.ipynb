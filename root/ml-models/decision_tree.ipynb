{
 "cells": [
  {
   "cell_type": "code",
   "execution_count": 1,
   "metadata": {},
   "outputs": [],
   "source": [
    "from sklearn.tree import DecisionTreeClassifier\n",
    "from imblearn.over_sampling import SMOTE\n",
    "from sklearn.model_selection import train_test_split, cross_val_score\n",
    "from sklearn.preprocessing import StandardScaler\n",
    "from sklearn.metrics import classification_report, confusion_matrix\n",
    "from sklearn.feature_selection import SelectKBest, f_classif\n",
    "from typing import Counter\n",
    "import pandas as pd\n",
    "import numpy as np"
   ]
  },
  {
   "cell_type": "code",
   "execution_count": 19,
   "metadata": {},
   "outputs": [],
   "source": [
    "file_path = './dataset/PCOS_data.csv'\n",
    "data = pd.read_csv(file_path)\n",
    "\n",
    "#data.info(), data.head(), data.describe()"
   ]
  },
  {
   "cell_type": "code",
   "execution_count": 5,
   "metadata": {},
   "outputs": [
    {
     "data": {
      "text/plain": [
       "(0,\n",
       " PCOS (Y/N)\n",
       " 0    364\n",
       " 1    177\n",
       " Name: count, dtype: int64)"
      ]
     },
     "execution_count": 5,
     "metadata": {},
     "output_type": "execute_result"
    }
   ],
   "source": [
    "data_cleaned = data.replace(',', '.', regex=True)\n",
    "\n",
    "# convertendo colunas para os tipos numéricos apropriados\n",
    "for col in data_cleaned.columns:\n",
    "  try:\n",
    "    data_cleaned[col] = pd.to_numeric(data_cleaned[col])\n",
    "  except ValueError:\n",
    "    pass\n",
    "\n",
    "# verificando e remover duplicatas\n",
    "duplicates = data_cleaned.duplicated().sum()\n",
    "data_cleaned = data_cleaned.drop_duplicates()\n",
    "\n",
    "# verificando valores de cada classe para balanceamento\n",
    "class_distribution = data_cleaned['PCOS (Y/N)'].value_counts()\n",
    "\n",
    "duplicates, class_distribution"
   ]
  },
  {
   "cell_type": "code",
   "execution_count": 7,
   "metadata": {},
   "outputs": [
    {
     "name": "stdout",
     "output_type": "stream",
     "text": [
      "Distribuição das classes após SMOTE: Counter({0: 364, 1: 364})\n"
     ]
    }
   ],
   "source": [
    "# separando características (X) e rótulos (y)\n",
    "X = data_cleaned.drop(columns=['PCOS (Y/N)'])\n",
    "y = data_cleaned['PCOS (Y/N)']\n",
    "\n",
    "# balanceamento dos dados com SMOTE\n",
    "smote = SMOTE(random_state=42)\n",
    "X_balanced, y_balanced = smote.fit_resample(X, y)\n",
    "\n",
    "print(f\"Distribuição das classes após SMOTE: {Counter(y_balanced)}\")\n",
    "\n",
    "# dividindo os dados em treino e teste\n",
    "X_train, X_test, y_train, y_test = train_test_split(X_balanced, y_balanced, test_size=0.3, random_state=42)\n",
    "\n",
    "# normalizando os dados\n",
    "scaler = StandardScaler()\n",
    "X_train_scaled = scaler.fit_transform(X_train)\n",
    "X_test_scaled = scaler.transform(X_test)"
   ]
  },
  {
   "cell_type": "code",
   "execution_count": 23,
   "metadata": {},
   "outputs": [
    {
     "name": "stdout",
     "output_type": "stream",
     "text": [
      "Importâncias dos Atributos:\n",
      "                 Feature  Importance\n",
      "37      Follicle No. (R)    0.502088\n",
      "22            AMH(ng/mL)    0.061635\n",
      "36      Follicle No. (L)    0.057572\n",
      "2            Height(Cm)     0.037839\n",
      "38  Avg. F size (L) (mm)    0.032476\n",
      "15           FSH(mIU/mL)    0.031943\n",
      "21           TSH (mIU/L)    0.031547\n",
      "20       Waist:Hip Ratio    0.028826\n",
      "28      hair growth(Y/N)    0.027522\n",
      "27      Weight gain(Y/N)    0.025549\n"
     ]
    }
   ],
   "source": [
    "# Obtendo a importâncias dos atributos \n",
    "importances = decision_tree.feature_importances_ \n",
    "\n",
    "# Criando um DataFrame para visualizar as importâncias \n",
    "feature_importances = pd.DataFrame({ 'Feature': X.columns, 'Importance': importances })\n",
    "\n",
    "# Ordenando as importâncias em ordem decrescente \n",
    "feature_importances = feature_importances.sort_values(by='Importance', ascending=False)\n",
    "\n",
    "top10_relevant_features = feature_importances.head(10)\n",
    "\n",
    "print(\"Importâncias dos Atributos:\") \n",
    "print(top10_relevant_features)"
   ]
  },
  {
   "cell_type": "code",
   "execution_count": 9,
   "metadata": {},
   "outputs": [
    {
     "name": "stdout",
     "output_type": "stream",
     "text": [
      "Relatório de Classificação com todas as características (decision_tree):\n",
      "               precision    recall  f1-score   support\n",
      "\n",
      "           0       0.79      0.85      0.82       110\n",
      "           1       0.83      0.77      0.80       109\n",
      "\n",
      "    accuracy                           0.81       219\n",
      "   macro avg       0.81      0.81      0.81       219\n",
      "weighted avg       0.81      0.81      0.81       219\n",
      "\n",
      "Matriz de Confusão com todas as características (decision_tree):\n",
      " [[93 17]\n",
      " [25 84]]\n",
      "Validação cruzada com todas as características (decision_tree):\n",
      "Acurácia média: 0.8369, Desvio padrão: 0.0546\n"
     ]
    }
   ],
   "source": [
    "# treinando o modelo\n",
    "decision_tree = DecisionTreeClassifier(random_state=42) \n",
    "decision_tree.fit(X_train_scaled, y_train)\n",
    "\n",
    "y_pred_all_features_decision_tree = decision_tree.predict(X_test_scaled)\n",
    "cv_scores_all_features_decision_tree = cross_val_score(decision_tree, X_train_scaled, y_train, cv=5, scoring='accuracy')\n",
    "mean_accuracy_all_decision_tree = np.mean(cv_scores_all_features_decision_tree)\n",
    "std_accuracy_all_decision_tree = np.std(cv_scores_all_features_decision_tree)\n",
    "\n",
    "print(\"Relatório de Classificação com todas as características (Decision Tree):\\n\", classification_report(y_test, y_pred_all_features_decision_tree))\n",
    "print(\"Matriz de Confusão com todas as características (Decision Tree):\\n\", confusion_matrix(y_test, y_pred_all_features_decision_tree))\n",
    "print(f\"Validação cruzada com todas as características (Decision Tree):\\nAcurácia média: {mean_accuracy_all_decision_tree:.4f}, Desvio padrão: {std_accuracy_all_decision_tree:.4f}\")"
   ]
  },
  {
   "cell_type": "markdown",
   "metadata": {},
   "source": [
    "### Treinando com as K Melhores"
   ]
  },
  {
   "cell_type": "code",
   "execution_count": 25,
   "metadata": {},
   "outputs": [
    {
     "name": "stdout",
     "output_type": "stream",
     "text": [
      "Características selecionadas: Index(['Weight (Kg)', 'Cycle(R/I)', 'AMH(ng/mL)', 'Weight gain(Y/N)',\n",
      "       'hair growth(Y/N)', 'Skin darkening (Y/N)', 'Pimples(Y/N)',\n",
      "       'Fast food (Y/N)', 'Follicle No. (L)', 'Follicle No. (R)'],\n",
      "      dtype='object')\n"
     ]
    }
   ],
   "source": [
    "# seleção de características com SelectKBest\n",
    "selector = SelectKBest(score_func=f_classif, k=10)\n",
    "X_new = selector.fit_transform(X, y)\n",
    "selected_features = X.columns[selector.get_support()]\n",
    "\n",
    "print(\"Características selecionadas:\", selected_features)"
   ]
  },
  {
   "cell_type": "code",
   "execution_count": 27,
   "metadata": {},
   "outputs": [
    {
     "name": "stdout",
     "output_type": "stream",
     "text": [
      "Distribuição das classes após SMOTE: Counter({0: 364, 1: 364})\n"
     ]
    }
   ],
   "source": [
    "# balanceamento dos dados com SMOTE para as características selecionadas\n",
    "X_balanced_selected, y_balanced_selected = smote.fit_resample(X_new, y)\n",
    "print(f\"Distribuição das classes após SMOTE: {Counter(y_balanced)}\")\n",
    "\n",
    "# divisão em treino e teste para as características selecionadas\n",
    "X_train_selected, X_test_selected, y_train_selected, y_test_selected = train_test_split(X_balanced_selected, y_balanced_selected, test_size=0.3, random_state=42)\n",
    "\n",
    "# normalizando os dados\n",
    "X_train_scaled_selected = scaler.fit_transform(X_train_selected)\n",
    "X_test_scaled_selected = scaler.transform(X_test_selected)"
   ]
  },
  {
   "cell_type": "code",
   "execution_count": 29,
   "metadata": {},
   "outputs": [
    {
     "name": "stdout",
     "output_type": "stream",
     "text": [
      "Relatório de Classificação com as melhores características (decision_tree):\n",
      "               precision    recall  f1-score   support\n",
      "\n",
      "           0       0.88      0.90      0.89       110\n",
      "           1       0.90      0.88      0.89       109\n",
      "\n",
      "    accuracy                           0.89       219\n",
      "   macro avg       0.89      0.89      0.89       219\n",
      "weighted avg       0.89      0.89      0.89       219\n",
      "\n",
      "Matriz de Confusão com as melhores características (decision_tree):\n",
      " [[99 11]\n",
      " [13 96]]\n",
      "Validação cruzada com as melhores características (decision_tree):\n",
      "Acurácia média: 0.8703, Desvio padrão: 0.0256\n"
     ]
    }
   ],
   "source": [
    "decision_tree.fit(X_train_scaled_selected, y_train_selected)\n",
    "y_pred_selected_decision_tree = decision_tree.predict(X_test_scaled_selected)\n",
    "\n",
    "cv_scores_selected_features_decision_tree = cross_val_score(decision_tree, X_train_scaled_selected, y_train_selected, cv=5, scoring='accuracy')\n",
    "mean_accuracy_selected_decision_tree = np.mean(cv_scores_selected_features_decision_tree)\n",
    "std_accuracy_selected_decision_tree = np.std(cv_scores_selected_features_decision_tree)\n",
    "\n",
    "print(\"Relatório de Classificação com as melhores características (Decision Tree):\\n\", classification_report(y_test_selected, y_pred_selected_decision_tree))\n",
    "print(\"Matriz de Confusão com as melhores características (Decision Tree):\\n\", confusion_matrix(y_test_selected, y_pred_selected_decision_tree))\n",
    "print(f\"Validação cruzada com as melhores características (Decision Tree):\\nAcurácia média: {mean_accuracy_selected_decision_tree:.4f}, Desvio padrão: {std_accuracy_selected_decision_tree:.4f}\")\n"
   ]
  }
 ],
 "metadata": {
  "kernelspec": {
   "display_name": "Python 3 (ipykernel)",
   "language": "python",
   "name": "python3"
  },
  "language_info": {
   "codemirror_mode": {
    "name": "ipython",
    "version": 3
   },
   "file_extension": ".py",
   "mimetype": "text/x-python",
   "name": "python",
   "nbconvert_exporter": "python",
   "pygments_lexer": "ipython3",
   "version": "3.12.7"
  }
 },
 "nbformat": 4,
 "nbformat_minor": 4
}
