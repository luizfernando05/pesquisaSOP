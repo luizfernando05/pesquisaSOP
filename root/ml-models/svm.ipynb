{
 "cells": [
  {
   "cell_type": "code",
   "execution_count": 35,
   "metadata": {},
   "outputs": [],
   "source": [
    "from sklearn.svm import SVC\n",
    "from imblearn.over_sampling import SMOTE\n",
    "from sklearn.model_selection import train_test_split, cross_val_score\n",
    "from sklearn.preprocessing import StandardScaler\n",
    "from sklearn.metrics import classification_report, confusion_matrix\n",
    "from sklearn.feature_selection import SelectKBest, f_classif\n",
    "from typing import Counter\n",
    "import pandas as pd\n",
    "import numpy as np"
   ]
  },
  {
   "cell_type": "code",
   "execution_count": 36,
   "metadata": {},
   "outputs": [],
   "source": [
    "file_path = './dataset/PCOS_data.csv'\n",
    "data = pd.read_csv(file_path)\n",
    "\n",
    "# data.info(), data.head(), data.describe()"
   ]
  },
  {
   "cell_type": "code",
   "execution_count": 37,
   "metadata": {},
   "outputs": [
    {
     "data": {
      "text/plain": [
       "(0,\n",
       " PCOS (Y/N)\n",
       " 0    364\n",
       " 1    177\n",
       " Name: count, dtype: int64)"
      ]
     },
     "execution_count": 37,
     "metadata": {},
     "output_type": "execute_result"
    }
   ],
   "source": [
    "data_cleaned = data.replace(',', '.', regex=True)\n",
    "\n",
    "# convertendo colunas para os tipos numéricos apropriados\n",
    "for col in data_cleaned.columns:\n",
    "  try:\n",
    "    data_cleaned[col] = pd.to_numeric(data_cleaned[col])\n",
    "  except ValueError:\n",
    "    pass\n",
    "\n",
    "# verificando e remover duplicatas\n",
    "duplicates = data_cleaned.duplicated().sum()\n",
    "data_cleaned = data_cleaned.drop_duplicates()\n",
    "\n",
    "# verificando valores de cada classe para balanceamento\n",
    "class_distribution = data_cleaned['PCOS (Y/N)'].value_counts()\n",
    "\n",
    "duplicates, class_distribution"
   ]
  },
  {
   "cell_type": "code",
   "execution_count": 38,
   "metadata": {},
   "outputs": [
    {
     "name": "stdout",
     "output_type": "stream",
     "text": [
      "Distribuição das classes após SMOTE: Counter({0: 364, 1: 364})\n"
     ]
    }
   ],
   "source": [
    "# separando características (X) e rótulos (y)\n",
    "X = data_cleaned.drop(columns=['PCOS (Y/N)'])\n",
    "y = data_cleaned['PCOS (Y/N)']\n",
    "\n",
    "# balanceamento dos dados com SMOTE\n",
    "smote = SMOTE(random_state=42)\n",
    "X_balanced, y_balanced = smote.fit_resample(X, y)\n",
    "\n",
    "print(f\"Distribuição das classes após SMOTE: {Counter(y_balanced)}\")\n",
    "\n",
    "# dividindo os dados em treino e teste\n",
    "X_train, X_test, y_train, y_test = train_test_split(X_balanced, y_balanced, test_size=0.3, random_state=42)\n",
    "\n",
    "# normalizando os dados\n",
    "scaler = StandardScaler()\n",
    "X_train_scaled = scaler.fit_transform(X_train)\n",
    "X_test_scaled = scaler.transform(X_test)"
   ]
  },
  {
   "cell_type": "code",
   "execution_count": 39,
   "metadata": {},
   "outputs": [
    {
     "name": "stdout",
     "output_type": "stream",
     "text": [
      "Relatório de Classificação com todas as características (SVM):\n",
      "               precision    recall  f1-score   support\n",
      "\n",
      "           0       0.88      0.89      0.88       110\n",
      "           1       0.89      0.87      0.88       109\n",
      "\n",
      "    accuracy                           0.88       219\n",
      "   macro avg       0.88      0.88      0.88       219\n",
      "weighted avg       0.88      0.88      0.88       219\n",
      "\n",
      "Matriz de Confusão com todas as características (SVM):\n",
      " [[98 12]\n",
      " [14 95]]\n",
      "Validação cruzada com todas as características (SVM):\n",
      "Acurácia média: 0.8861, Desvio padrão: 0.0157\n"
     ]
    }
   ],
   "source": [
    "# treinando o modelo\n",
    "svm = SVC(kernel='linear', random_state=42) \n",
    "svm.fit(X_train_scaled, y_train)\n",
    "\n",
    "y_pred_all_features_svm = svm.predict(X_test_scaled)\n",
    "cv_scores_all_features_svm = cross_val_score(svm, X_train_scaled, y_train, cv=5, scoring='accuracy')\n",
    "mean_accuracy_all_svm = np.mean(cv_scores_all_features_svm)\n",
    "std_accuracy_all_svm = np.std(cv_scores_all_features_svm)\n",
    "\n",
    "print(\"Relatório de Classificação com todas as características (SVM):\\n\", classification_report(y_test, y_pred_all_features_svm))\n",
    "print(\"Matriz de Confusão com todas as características (SVM):\\n\", confusion_matrix(y_test, y_pred_all_features_svm))\n",
    "print(f\"Validação cruzada com todas as características (SVM):\\nAcurácia média: {mean_accuracy_all_svm:.4f}, Desvio padrão: {std_accuracy_all_svm:.4f}\")"
   ]
  },
  {
   "cell_type": "markdown",
   "metadata": {},
   "source": [
    "### Treinando com as K Melhores"
   ]
  },
  {
   "cell_type": "code",
   "execution_count": 40,
   "metadata": {},
   "outputs": [
    {
     "name": "stdout",
     "output_type": "stream",
     "text": [
      "Características selecionadas: Index(['Weight (Kg)', 'Cycle(R/I)', 'AMH(ng/mL)', 'Weight gain(Y/N)',\n",
      "       'hair growth(Y/N)', 'Skin darkening (Y/N)', 'Pimples(Y/N)',\n",
      "       'Fast food (Y/N)', 'Follicle No. (L)', 'Follicle No. (R)'],\n",
      "      dtype='object')\n"
     ]
    }
   ],
   "source": [
    "# seleção de características com SelectKBest\n",
    "selector = SelectKBest(score_func=f_classif, k=10)\n",
    "X_new = selector.fit_transform(X, y)\n",
    "selected_features = X.columns[selector.get_support()]\n",
    "\n",
    "print(\"Características selecionadas:\", selected_features)"
   ]
  },
  {
   "cell_type": "code",
   "execution_count": 41,
   "metadata": {},
   "outputs": [
    {
     "name": "stdout",
     "output_type": "stream",
     "text": [
      "Distribuição das classes após SMOTE: Counter({0: 364, 1: 364})\n"
     ]
    }
   ],
   "source": [
    "# balanceamento dos dados com SMOTE para as características selecionadas\n",
    "X_balanced_selected, y_balanced_selected = smote.fit_resample(X_new, y)\n",
    "print(f\"Distribuição das classes após SMOTE: {Counter(y_balanced)}\")\n",
    "\n",
    "# divisão em treino e teste para as características selecionadas\n",
    "X_train_selected, X_test_selected, y_train_selected, y_test_selected = train_test_split(X_balanced_selected, y_balanced_selected, test_size=0.3, random_state=42)\n",
    "\n",
    "# normalizando os dados\n",
    "X_train_scaled_selected = scaler.fit_transform(X_train_selected)\n",
    "X_test_scaled_selected = scaler.transform(X_test_selected)"
   ]
  },
  {
   "cell_type": "code",
   "execution_count": 42,
   "metadata": {},
   "outputs": [
    {
     "name": "stdout",
     "output_type": "stream",
     "text": [
      "Relatório de Classificação com as melhores características (SVM):\n",
      "               precision    recall  f1-score   support\n",
      "\n",
      "           0       0.88      0.91      0.90       110\n",
      "           1       0.91      0.88      0.89       109\n",
      "\n",
      "    accuracy                           0.89       219\n",
      "   macro avg       0.90      0.89      0.89       219\n",
      "weighted avg       0.90      0.89      0.89       219\n",
      "\n",
      "Matriz de Confusão com as melhores características (SVM):\n",
      " [[100  10]\n",
      " [ 13  96]]\n",
      "Validação cruzada com as melhores características (SVM):\n",
      "Acurácia média: 0.9096, Desvio padrão: 0.0205\n"
     ]
    }
   ],
   "source": [
    "svm.fit(X_train_scaled_selected, y_train_selected)\n",
    "y_pred_selected_svm = svm.predict(X_test_scaled_selected)\n",
    "\n",
    "cv_scores_selected_features_svm = cross_val_score(svm, X_train_scaled_selected, y_train_selected, cv=5, scoring='accuracy')\n",
    "mean_accuracy_selected_svm = np.mean(cv_scores_selected_features_svm)\n",
    "std_accuracy_selected_svm = np.std(cv_scores_selected_features_svm)\n",
    "\n",
    "print(\"Relatório de Classificação com as melhores características (SVM):\\n\", classification_report(y_test_selected, y_pred_selected_svm))\n",
    "print(\"Matriz de Confusão com as melhores características (SVM):\\n\", confusion_matrix(y_test_selected, y_pred_selected_svm))\n",
    "print(f\"Validação cruzada com as melhores características (SVM):\\nAcurácia média: {mean_accuracy_selected_svm:.4f}, Desvio padrão: {std_accuracy_selected_svm:.4f}\")\n"
   ]
  }
 ],
 "metadata": {
  "kernelspec": {
   "display_name": "Python 3",
   "language": "python",
   "name": "python3"
  },
  "language_info": {
   "codemirror_mode": {
    "name": "ipython",
    "version": 3
   },
   "file_extension": ".py",
   "mimetype": "text/x-python",
   "name": "python",
   "nbconvert_exporter": "python",
   "pygments_lexer": "ipython3",
   "version": "3.10.7"
  }
 },
 "nbformat": 4,
 "nbformat_minor": 2
}
